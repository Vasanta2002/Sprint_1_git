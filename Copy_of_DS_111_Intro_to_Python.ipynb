{
  "cells": [
    {
      "cell_type": "markdown",
      "id": "1adef5c8",
      "metadata": {
        "id": "1adef5c8"
      },
      "source": [
        "\n",
        "# Introduction to Python"
      ]
    },
    {
      "cell_type": "markdown",
      "id": "8c9755c2",
      "metadata": {
        "id": "8c9755c2"
      },
      "source": [
        "> - Objective 01 - Submit Assignments and Save Work via Canvas\n",
        "> - Objective 02 - Working with Canvas, Colab, and Class Tools\n",
        "> - Objective 03 - Determine and describe Python datatypes\n",
        "> - Objective 04 - Understand Python Syntax, Loops and Conditionals\n",
        "\n"
      ]
    },
    {
      "cell_type": "markdown",
      "id": "40f820a3",
      "metadata": {
        "id": "40f820a3"
      },
      "source": [
        "# Working with Canvas and Colab"
      ]
    },
    {
      "cell_type": "markdown",
      "id": "4904bfd2",
      "metadata": {
        "id": "4904bfd2"
      },
      "source": [
        "## Overview\n",
        "\n",
        "We will use Canvas, Colab and CodeGrade to work on, submit and evaluate projects.\n",
        "\n",
        "**Canvas** is a learning management system you that provides extra information you can use to help prepare for Guided Projects and as a resource when you are working on your individual sproject each afternoon.  \n",
        "\n",
        "**GitHub** is where the notebook for your Module Project is located. \n",
        "\n",
        "**Colab** (where you are right now) is the web-based notebook we will use for working on guided and module projects and sprint challenges.\n",
        "\n",
        "**CodeGrade** is the system that will evaluate your module projects and all your Sprint Challenges.\n",
        "\n",
        "**You will  access to and submit your module projects and sprint challenges in Canvas.**"
      ]
    },
    {
      "cell_type": "markdown",
      "id": "2719bccc",
      "metadata": {
        "id": "2719bccc"
      },
      "source": [
        "### 1) Open Canvas and navigate to the course for the sprint we are currently in.\n",
        "\n",
        "In this case, it is **Introduction to Python DS1.1 DSXX** where XX is your cohort number.\n",
        "\n",
        "\n",
        "The course will automatically open to the Overview page were you can take a look at all of the concepts we'll be covering throughout the Sprint.  Click on the links to see what will be covered in each module.\n",
        "\n",
        "When you click on Modules on the left hand side, you'll see content for each module divided into three sections:\n",
        "* Warmup is an intro to what will be covered during Guided Project\n",
        "* Engage is where you'll see the module project, the check for understanding, and pulse check.\n",
        "* Review is where you can find links to previous class recordings."
      ]
    },
    {
      "cell_type": "markdown",
      "id": "37eb5477",
      "metadata": {
        "id": "37eb5477"
      },
      "source": [
        "### 2) How to access the Guided and Module Project from Canvas:\n",
        "\n",
        "Under **Engage** in Canvas, click on the **Module # Project** link. This will direct you to Github. \n",
        "\n",
        "The files that we will be working with primarily during the course have the file extension: .ipynb for \"IPython Notebook\" any of these are notebooks that we can open in Google Colab or Jupyter Notebook.\n",
        "\n",
        "You will find all lecture materials and your daily assignments in the Github repositories. "
      ]
    },
    {
      "cell_type": "markdown",
      "id": "f04cf99d",
      "metadata": {
        "id": "f04cf99d"
      },
      "source": [
        "### 3) Install the following Google Chrome extension. This will open any .ipynb file from GitHub directly in Google Colab: \n",
        "\n",
        "[Google Chrome Extension to Open .ipynb files easily in Google Colab](https://chrome.google.com/webstore/detail/open-in-colab/iogfkhleblhcpcekbiedikdehleodpjo?hl=en)\n",
        "\n",
        "When open in in Google Colab, go to **File** --> **\"Save a Copy in Drive\"**"
      ]
    },
    {
      "cell_type": "markdown",
      "id": "78ff3be5",
      "metadata": {
        "id": "78ff3be5"
      },
      "source": [
        "### 4) Upload your daily project to CodeGrade\n",
        "Under **Module Project**, click **Load Module Project in a new window** to submit your work. "
      ]
    },
    {
      "cell_type": "markdown",
      "id": "21164afa",
      "metadata": {
        "id": "21164afa"
      },
      "source": [
        "# What is Python?"
      ]
    },
    {
      "cell_type": "markdown",
      "id": "ed02dbf4",
      "metadata": {
        "id": "ed02dbf4"
      },
      "source": [
        "From the [source](https://www.python.org/doc/essays/blurb/):\n",
        "\n",
        "\"Python is an interpreted, object-oriented, high-level programming language with dynamic semantics. Its high-level built-in data structures, combined with dynamic typing and dynamic binding, make it very attractive for Rapid Application Development, as well as for use as a scripting or glue language to connect existing components together. Python's simple, easy to learn syntax emphasizes readability and therefore reduces the cost of program maintenance. Python supports modules and packages, which encourages program modularity and code reuse. The Python interpreter and the extensive standard library are available in source or binary form without charge for all major platforms, and can be freely distributed.\"\n"
      ]
    },
    {
      "cell_type": "markdown",
      "id": "db87a2de",
      "metadata": {
        "id": "db87a2de"
      },
      "source": [
        "# Python and Notebooks (Colab or Jupyter) \n",
        "\n",
        "We will be using Colab for Unit 1. Colab is a Jupyter Notebook environment that runs on the cloud and stores files in your Google Drive. "
      ]
    },
    {
      "cell_type": "code",
      "execution_count": null,
      "id": "5b65aca3",
      "metadata": {
        "id": "5b65aca3"
      },
      "outputs": [],
      "source": [
        "#run the following cell by clicking on the play button next to this text\n",
        "\"Hello\""
      ]
    },
    {
      "cell_type": "code",
      "execution_count": null,
      "id": "6997ad18",
      "metadata": {
        "id": "6997ad18"
      },
      "outputs": [],
      "source": [
        "#run the following cell by clicking Shift + Return\n",
        "2+2"
      ]
    },
    {
      "cell_type": "markdown",
      "id": "495fe2fe",
      "metadata": {
        "id": "495fe2fe"
      },
      "source": [
        "## Embrace the keyboard shortcuts: \n",
        "- Press 'esc' to enter navigation mode. \n",
        "- The keys 'a' and 'b' create code cells above and below your current cell when in navigation mode. \n",
        "- Click on the 'Tools' tab above to see additional short-cuts.\n",
        "- It's okay to use your mouse. You'll learn to code like a speedster with practice!"
      ]
    },
    {
      "cell_type": "markdown",
      "id": "95419091",
      "metadata": {
        "id": "95419091"
      },
      "source": [
        "## What is a Python Object? "
      ]
    },
    {
      "cell_type": "code",
      "execution_count": 1,
      "id": "38d0c5e2",
      "metadata": {
        "id": "38d0c5e2"
      },
      "outputs": [],
      "source": [
        "x = 2\n"
      ]
    },
    {
      "cell_type": "code",
      "execution_count": 4,
      "id": "29138b15",
      "metadata": {
        "id": "29138b15"
      },
      "outputs": [],
      "source": [
        "y = 7"
      ]
    },
    {
      "cell_type": "code",
      "execution_count": 5,
      "id": "895a1d1a",
      "metadata": {
        "id": "895a1d1a",
        "colab": {
          "base_uri": "https://localhost:8080/"
        },
        "outputId": "d03ba3e8-f45c-4f15-8694-3fa0da65ac36"
      },
      "outputs": [
        {
          "output_type": "execute_result",
          "data": {
            "text/plain": [
              "9"
            ]
          },
          "metadata": {},
          "execution_count": 5
        }
      ],
      "source": [
        "x + y\n"
      ]
    },
    {
      "cell_type": "code",
      "execution_count": 10,
      "id": "5f26f117",
      "metadata": {
        "id": "5f26f117",
        "colab": {
          "base_uri": "https://localhost:8080/"
        },
        "outputId": "5a145276-876f-4889-a8bf-1b626a6dad00"
      },
      "outputs": [
        {
          "output_type": "stream",
          "name": "stdout",
          "text": [
            "Hello World\n"
          ]
        }
      ],
      "source": [
        "  #What are built-in functions? \n",
        "\"Hello World\"\n",
        "\n",
        "\n",
        "print(\"Hello World\")\n",
        "\n",
        "\n"
      ]
    },
    {
      "cell_type": "code",
      "execution_count": null,
      "id": "a35187dd",
      "metadata": {
        "id": "a35187dd"
      },
      "outputs": [],
      "source": [
        "#The print statement?\n",
        "\n",
        "\n",
        "#Difference between output and print statement.\n",
        "\n",
        "#What happens when you include a print statement next to the y object? "
      ]
    },
    {
      "cell_type": "code",
      "execution_count": 11,
      "id": "18c4971c",
      "metadata": {
        "id": "18c4971c",
        "colab": {
          "base_uri": "https://localhost:8080/"
        },
        "outputId": "23cc2a48-cca6-4459-e5eb-943fcec390b6"
      },
      "outputs": [
        {
          "output_type": "stream",
          "name": "stdout",
          "text": [
            "2\n"
          ]
        },
        {
          "output_type": "execute_result",
          "data": {
            "text/plain": [
              "7"
            ]
          },
          "metadata": {},
          "execution_count": 11
        }
      ],
      "source": [
        "print(x)\n",
        "y"
      ]
    },
    {
      "cell_type": "markdown",
      "id": "1004e67f",
      "metadata": {
        "id": "1004e67f"
      },
      "source": [
        "## Operators"
      ]
    },
    {
      "cell_type": "code",
      "execution_count": 12,
      "id": "07abe276",
      "metadata": {
        "id": "07abe276",
        "colab": {
          "base_uri": "https://localhost:8080/"
        },
        "outputId": "0c4194da-c500-4421-8015-fcb3bdb10fe1"
      },
      "outputs": [
        {
          "output_type": "execute_result",
          "data": {
            "text/plain": [
              "9"
            ]
          },
          "metadata": {},
          "execution_count": 12
        }
      ],
      "source": [
        "#+ \n",
        "x+y"
      ]
    },
    {
      "cell_type": "code",
      "execution_count": 13,
      "id": "06bd8490",
      "metadata": {
        "id": "06bd8490",
        "colab": {
          "base_uri": "https://localhost:8080/"
        },
        "outputId": "26e504d1-f67b-47f7-ca59-47e00d95702c"
      },
      "outputs": [
        {
          "output_type": "execute_result",
          "data": {
            "text/plain": [
              "5"
            ]
          },
          "metadata": {},
          "execution_count": 13
        }
      ],
      "source": [
        "#- \n",
        "y-x\n"
      ]
    },
    {
      "cell_type": "code",
      "execution_count": 14,
      "id": "340c0445",
      "metadata": {
        "id": "340c0445",
        "colab": {
          "base_uri": "https://localhost:8080/"
        },
        "outputId": "2a927cf4-73d0-4a77-9ae0-8e89e6c0485c"
      },
      "outputs": [
        {
          "output_type": "execute_result",
          "data": {
            "text/plain": [
              "14"
            ]
          },
          "metadata": {},
          "execution_count": 14
        }
      ],
      "source": [
        "\n",
        "#* \n",
        "y * x\n"
      ]
    },
    {
      "cell_type": "code",
      "execution_count": 15,
      "id": "048c8c4f",
      "metadata": {
        "id": "048c8c4f",
        "colab": {
          "base_uri": "https://localhost:8080/"
        },
        "outputId": "9fe1c091-4eb0-4353-9b37-45c8a0d7f290"
      },
      "outputs": [
        {
          "output_type": "execute_result",
          "data": {
            "text/plain": [
              "3.5"
            ]
          },
          "metadata": {},
          "execution_count": 15
        }
      ],
      "source": [
        "\n",
        "#/ \n",
        "y/2"
      ]
    },
    {
      "cell_type": "code",
      "execution_count": 16,
      "id": "4c0b8762",
      "metadata": {
        "id": "4c0b8762",
        "colab": {
          "base_uri": "https://localhost:8080/"
        },
        "outputId": "5475868b-fa84-4e89-a1ce-303b635fbce5"
      },
      "outputs": [
        {
          "output_type": "execute_result",
          "data": {
            "text/plain": [
              "49"
            ]
          },
          "metadata": {},
          "execution_count": 16
        }
      ],
      "source": [
        "\n",
        "# **\n",
        "y ** x"
      ]
    },
    {
      "cell_type": "code",
      "execution_count": 19,
      "id": "c75db545",
      "metadata": {
        "id": "c75db545",
        "colab": {
          "base_uri": "https://localhost:8080/"
        },
        "outputId": "4ef76c44-068b-4d35-cf69-def69b5d1e84"
      },
      "outputs": [
        {
          "output_type": "execute_result",
          "data": {
            "text/plain": [
              "1"
            ]
          },
          "metadata": {},
          "execution_count": 19
        }
      ],
      "source": [
        "#// \n",
        "y // 2\n",
        "10 // 6"
      ]
    },
    {
      "cell_type": "code",
      "execution_count": 20,
      "id": "72272e4f",
      "metadata": {
        "id": "72272e4f",
        "colab": {
          "base_uri": "https://localhost:8080/"
        },
        "outputId": "8ce22045-eb0b-416c-9896-c3ce6d838cd4"
      },
      "outputs": [
        {
          "output_type": "execute_result",
          "data": {
            "text/plain": [
              "1"
            ]
          },
          "metadata": {},
          "execution_count": 20
        }
      ],
      "source": [
        "\n",
        "#%\n",
        "y % 2\n"
      ]
    },
    {
      "cell_type": "markdown",
      "id": "a716ff76",
      "metadata": {
        "id": "a716ff76"
      },
      "source": [
        "## Booleans"
      ]
    },
    {
      "cell_type": "code",
      "execution_count": 32,
      "id": "f0072660",
      "metadata": {
        "id": "f0072660",
        "colab": {
          "base_uri": "https://localhost:8080/"
        },
        "outputId": "faa41b3c-8802-44d9-e8c5-9a30da0d4ae3"
      },
      "outputs": [
        {
          "output_type": "execute_result",
          "data": {
            "text/plain": [
              "True"
            ]
          },
          "metadata": {},
          "execution_count": 32
        }
      ],
      "source": [
        "#print(x == 2) \n",
        "#print(x == 3)\n",
        "\n",
        "y > 4 or x==3\n",
        "x != 3"
      ]
    },
    {
      "cell_type": "markdown",
      "id": "c86409be",
      "metadata": {
        "id": "c86409be"
      },
      "source": [
        "## Error Codes\n",
        "(...or How I learned to love my mistakes)"
      ]
    },
    {
      "cell_type": "code",
      "execution_count": 33,
      "id": "85c73a82",
      "metadata": {
        "id": "85c73a82",
        "colab": {
          "base_uri": "https://localhost:8080/",
          "height": 35
        },
        "outputId": "19e23afd-1b39-4771-978b-2af699e44179"
      },
      "outputs": [
        {
          "output_type": "execute_result",
          "data": {
            "text/plain": [
              "'the number three'"
            ],
            "application/vnd.google.colaboratory.intrinsic+json": {
              "type": "string"
            }
          },
          "metadata": {},
          "execution_count": 33
        }
      ],
      "source": [
        "z = \"the number three\"\n",
        "z"
      ]
    },
    {
      "cell_type": "code",
      "execution_count": 34,
      "id": "a04ac3b8",
      "metadata": {
        "id": "a04ac3b8",
        "colab": {
          "base_uri": "https://localhost:8080/"
        },
        "outputId": "61a824c8-89fa-4bc7-a6cd-4990355199d5"
      },
      "outputs": [
        {
          "output_type": "execute_result",
          "data": {
            "text/plain": [
              "str"
            ]
          },
          "metadata": {},
          "execution_count": 34
        }
      ],
      "source": [
        "type(z)"
      ]
    },
    {
      "cell_type": "code",
      "execution_count": 113,
      "id": "565b2c8b",
      "metadata": {
        "id": "565b2c8b",
        "colab": {
          "base_uri": "https://localhost:8080/",
          "height": 183
        },
        "outputId": "ef1c6d64-c988-444e-a032-b4e4d2c4429a"
      },
      "outputs": [
        {
          "output_type": "error",
          "ename": "TypeError",
          "evalue": "ignored",
          "traceback": [
            "\u001b[0;31m---------------------------------------------------------------------------\u001b[0m",
            "\u001b[0;31mTypeError\u001b[0m                                 Traceback (most recent call last)",
            "\u001b[0;32m<ipython-input-113-7d719aa93104>\u001b[0m in \u001b[0;36m<module>\u001b[0;34m\u001b[0m\n\u001b[1;32m      1\u001b[0m \u001b[0;31m#You're gonna get a lot of errors while you're learning to code, and that's okay!\u001b[0m\u001b[0;34m\u001b[0m\u001b[0;34m\u001b[0m\u001b[0;34m\u001b[0m\u001b[0m\n\u001b[0;32m----> 2\u001b[0;31m \u001b[0mx\u001b[0m \u001b[0;34m+\u001b[0m \u001b[0mz\u001b[0m\u001b[0;34m\u001b[0m\u001b[0;34m\u001b[0m\u001b[0m\n\u001b[0m",
            "\u001b[0;31mTypeError\u001b[0m: unsupported operand type(s) for +: 'int' and 'str'"
          ]
        }
      ],
      "source": [
        "#You're gonna get a lot of errors while you're learning to code, and that's okay!\n",
        "x + z\n"
      ]
    },
    {
      "cell_type": "code",
      "execution_count": 36,
      "id": "3db0dd1b",
      "metadata": {
        "id": "3db0dd1b",
        "colab": {
          "base_uri": "https://localhost:8080/",
          "height": 130
        },
        "outputId": "d4ab1a42-8c9b-467f-d165-74305cfb30e5"
      },
      "outputs": [
        {
          "output_type": "error",
          "ename": "SyntaxError",
          "evalue": "ignored",
          "traceback": [
            "\u001b[0;36m  File \u001b[0;32m\"<ipython-input-36-6e05c8d4d8c7>\"\u001b[0;36m, line \u001b[0;32m1\u001b[0m\n\u001b[0;31m    ((x + y)\u001b[0m\n\u001b[0m            ^\u001b[0m\n\u001b[0;31mSyntaxError\u001b[0m\u001b[0;31m:\u001b[0m unexpected EOF while parsing\n"
          ]
        }
      ],
      "source": [
        "((x + y)"
      ]
    },
    {
      "cell_type": "code",
      "execution_count": 37,
      "id": "81a376f6",
      "metadata": {
        "id": "81a376f6",
        "colab": {
          "base_uri": "https://localhost:8080/",
          "height": 165
        },
        "outputId": "371de3a1-8bcc-40a3-cd5c-7535563cd858"
      },
      "outputs": [
        {
          "output_type": "error",
          "ename": "NameError",
          "evalue": "ignored",
          "traceback": [
            "\u001b[0;31m---------------------------------------------------------------------------\u001b[0m",
            "\u001b[0;31mNameError\u001b[0m                                 Traceback (most recent call last)",
            "\u001b[0;32m<ipython-input-37-00cf07b74dcd>\u001b[0m in \u001b[0;36m<module>\u001b[0;34m\u001b[0m\n\u001b[0;32m----> 1\u001b[0;31m \u001b[0mdf\u001b[0m\u001b[0;34m\u001b[0m\u001b[0;34m\u001b[0m\u001b[0m\n\u001b[0m",
            "\u001b[0;31mNameError\u001b[0m: name 'df' is not defined"
          ]
        }
      ],
      "source": [
        "df"
      ]
    },
    {
      "cell_type": "markdown",
      "id": "6b4466bd",
      "metadata": {
        "id": "6b4466bd"
      },
      "source": [
        "## Data Types"
      ]
    },
    {
      "cell_type": "code",
      "execution_count": 39,
      "id": "b5c6826e",
      "metadata": {
        "id": "b5c6826e",
        "colab": {
          "base_uri": "https://localhost:8080/"
        },
        "outputId": "6c6dbc73-186b-4ec4-c120-18d8d6ad2693"
      },
      "outputs": [
        {
          "output_type": "execute_result",
          "data": {
            "text/plain": [
              "str"
            ]
          },
          "metadata": {},
          "execution_count": 39
        }
      ],
      "source": [
        "#integers\n",
        "10\n",
        "#floats\n",
        "10.2\n",
        "#strings\n",
        "\"It's a Julian's statment\"\n",
        "type(\"10.2\")"
      ]
    },
    {
      "cell_type": "markdown",
      "id": "4c9a120c",
      "metadata": {
        "id": "4c9a120c"
      },
      "source": [
        "#### Lists\n",
        "Used to store multiple items in a single variable. List items are ordered (indexed), changeable, and allow duplicate values. "
      ]
    },
    {
      "cell_type": "code",
      "execution_count": 81,
      "id": "616b951a",
      "metadata": {
        "id": "616b951a",
        "colab": {
          "base_uri": "https://localhost:8080/"
        },
        "outputId": "92b0aec1-123b-4b17-e232-8e5820404c65"
      },
      "outputs": [
        {
          "output_type": "execute_result",
          "data": {
            "text/plain": [
              "['fall', 'winter', 'summer', 'spring']"
            ]
          },
          "metadata": {},
          "execution_count": 81
        }
      ],
      "source": [
        "season_list = ['fall', 'winter', 'summer', 'spring']\n",
        "season_list"
      ]
    },
    {
      "cell_type": "code",
      "execution_count": 82,
      "id": "b4c68f7d",
      "metadata": {
        "id": "b4c68f7d",
        "colab": {
          "base_uri": "https://localhost:8080/"
        },
        "outputId": "cd22423b-db9a-4e86-c4df-8c95d8c5dab3"
      },
      "outputs": [
        {
          "output_type": "execute_result",
          "data": {
            "text/plain": [
              "['fall', 'winter', 'summer', 'spring', 'spring']"
            ]
          },
          "metadata": {},
          "execution_count": 82
        }
      ],
      "source": [
        "season_list = ['fall', 'winter', 'summer', 'spring', 'spring']\n",
        "season_list"
      ]
    },
    {
      "cell_type": "markdown",
      "id": "1ab4a2f1",
      "metadata": {
        "id": "1ab4a2f1"
      },
      "source": [
        "#### Sets\n",
        "Sets are unordered, unchangeable and unindexed. "
      ]
    },
    {
      "cell_type": "code",
      "execution_count": 43,
      "id": "f52fc965",
      "metadata": {
        "id": "f52fc965",
        "colab": {
          "base_uri": "https://localhost:8080/"
        },
        "outputId": "404187a2-d93f-4a60-882b-c65e963d9635"
      },
      "outputs": [
        {
          "output_type": "execute_result",
          "data": {
            "text/plain": [
              "{'fall', 'spring', 'summer', 'winter'}"
            ]
          },
          "metadata": {},
          "execution_count": 43
        }
      ],
      "source": [
        "season_set = {\"summer\", \"fall\", \"winter\", \"spring\"}\n",
        "season_set"
      ]
    },
    {
      "cell_type": "code",
      "execution_count": 44,
      "id": "11e5c146",
      "metadata": {
        "id": "11e5c146",
        "colab": {
          "base_uri": "https://localhost:8080/"
        },
        "outputId": "cd55a4d7-ce4b-4e33-a8d0-3138bdb56730"
      },
      "outputs": [
        {
          "output_type": "execute_result",
          "data": {
            "text/plain": [
              "{'fall', 'spring', 'summer', 'winter'}"
            ]
          },
          "metadata": {},
          "execution_count": 44
        }
      ],
      "source": [
        "season_set = {'summer', 'fall', 'winter',  'spring', 'spring'}\n",
        "\n",
        "season_set"
      ]
    },
    {
      "cell_type": "markdown",
      "id": "147b257b",
      "metadata": {
        "id": "147b257b"
      },
      "source": [
        "#### Tuples\n",
        "Tuple items are ordered, unchangeable, and allow duplicate values."
      ]
    },
    {
      "cell_type": "code",
      "execution_count": 45,
      "id": "5c5b06a3",
      "metadata": {
        "id": "5c5b06a3",
        "colab": {
          "base_uri": "https://localhost:8080/"
        },
        "outputId": "421a386b-5f34-469d-e65a-009da5ac7950"
      },
      "outputs": [
        {
          "output_type": "execute_result",
          "data": {
            "text/plain": [
              "('fall', 'winter', 'summer', 'spring', 'spring')"
            ]
          },
          "metadata": {},
          "execution_count": 45
        }
      ],
      "source": [
        "season_tuple = ('fall', 'winter', 'summer', 'spring', 'spring')\n",
        "season_tuple"
      ]
    },
    {
      "cell_type": "code",
      "execution_count": 46,
      "id": "bb93a8fa",
      "metadata": {
        "id": "bb93a8fa",
        "colab": {
          "base_uri": "https://localhost:8080/"
        },
        "outputId": "6992205d-7a53-498f-999a-dcb27f7e3f69"
      },
      "outputs": [
        {
          "output_type": "execute_result",
          "data": {
            "text/plain": [
              "('fall', 'winter', 'summer', 'spring', 'spring')"
            ]
          },
          "metadata": {},
          "execution_count": 46
        }
      ],
      "source": [
        "season_tuple"
      ]
    },
    {
      "cell_type": "markdown",
      "id": "fc042d03",
      "metadata": {
        "id": "fc042d03"
      },
      "source": [
        "**Tuple Unpacking**"
      ]
    },
    {
      "cell_type": "code",
      "execution_count": 47,
      "id": "626ac6d1",
      "metadata": {
        "id": "626ac6d1",
        "colab": {
          "base_uri": "https://localhost:8080/",
          "height": 35
        },
        "outputId": "87eacf8e-ce49-47c8-d625-ace85dc64daa"
      },
      "outputs": [
        {
          "output_type": "execute_result",
          "data": {
            "text/plain": [
              "'fall'"
            ],
            "application/vnd.google.colaboratory.intrinsic+json": {
              "type": "string"
            }
          },
          "metadata": {},
          "execution_count": 47
        }
      ],
      "source": [
        "season1, season2, season3, season4, season5 = season_tuple\n",
        "season1"
      ]
    },
    {
      "cell_type": "markdown",
      "id": "a15eddf3",
      "metadata": {
        "id": "a15eddf3"
      },
      "source": [
        "#### Dictionaries\n",
        "\n",
        "Dictionaries store values in key:value pairs. The are ordered, changeable and do not allow duplicates."
      ]
    },
    {
      "cell_type": "code",
      "execution_count": 77,
      "id": "ef36c64f",
      "metadata": {
        "id": "ef36c64f",
        "colab": {
          "base_uri": "https://localhost:8080/"
        },
        "outputId": "d952a34b-a2fa-49d7-f9fc-ec69b187644c"
      },
      "outputs": [
        {
          "output_type": "execute_result",
          "data": {
            "text/plain": [
              "{'winter': 'cold', 'summer': 'hot', 'fall': 'colorful'}"
            ]
          },
          "metadata": {},
          "execution_count": 77
        }
      ],
      "source": [
        "\n",
        "season_dict = {\"winter\" : 'cold', 'summer' : 'hot', 'fall' : 'colorful'}\n",
        "season_dict"
      ]
    },
    {
      "cell_type": "code",
      "execution_count": 78,
      "id": "fa951fa6",
      "metadata": {
        "id": "fa951fa6",
        "colab": {
          "base_uri": "https://localhost:8080/"
        },
        "outputId": "77acd986-f61e-4649-9440-d6cc187f7763"
      },
      "outputs": [
        {
          "output_type": "execute_result",
          "data": {
            "text/plain": [
              "{'winter': 'cold', 'summer': 'humid', 'fall': 'colorful'}"
            ]
          },
          "metadata": {},
          "execution_count": 78
        }
      ],
      "source": [
        "season_dict = {\"winter\" : 'cold', 'summer' : 'hot', 'fall' : 'colorful', 'summer': 'humid'}\n",
        "season_dict"
      ]
    },
    {
      "cell_type": "code",
      "execution_count": null,
      "id": "623c8cad",
      "metadata": {
        "id": "623c8cad"
      },
      "outputs": [],
      "source": []
    },
    {
      "cell_type": "markdown",
      "id": "fd236ec6",
      "metadata": {
        "id": "fd236ec6"
      },
      "source": [
        "## Object Methods and How To Use Them\n",
        "Use those keyboard shortcuts! <br>\n",
        "Jupyter Notebook -> Tab after period<br>\n",
        "Colab -> Cursor hover after period"
      ]
    },
    {
      "cell_type": "code",
      "execution_count": 56,
      "id": "b482c3cc",
      "metadata": {
        "id": "b482c3cc",
        "colab": {
          "base_uri": "https://localhost:8080/",
          "height": 35
        },
        "outputId": "ecc8583e-8694-4641-bd5a-eb052777fa05"
      },
      "outputs": [
        {
          "output_type": "execute_result",
          "data": {
            "text/plain": [
              "'summer'"
            ],
            "application/vnd.google.colaboratory.intrinsic+json": {
              "type": "string"
            }
          },
          "metadata": {},
          "execution_count": 56
        }
      ],
      "source": [
        "#some changes happen in place\n",
        "\n",
        "\n",
        "#pop\n",
        "season_list.pop()"
      ]
    },
    {
      "cell_type": "code",
      "source": [
        "season_list"
      ],
      "metadata": {
        "colab": {
          "base_uri": "https://localhost:8080/"
        },
        "id": "otl9sV9QEtGu",
        "outputId": "bc170f15-ac6d-4e04-ae7c-c15b9a64c78d"
      },
      "id": "otl9sV9QEtGu",
      "execution_count": 57,
      "outputs": [
        {
          "output_type": "execute_result",
          "data": {
            "text/plain": [
              "['fall', 'winter']"
            ]
          },
          "metadata": {},
          "execution_count": 57
        }
      ]
    },
    {
      "cell_type": "code",
      "execution_count": 59,
      "id": "66879b10",
      "metadata": {
        "id": "66879b10",
        "colab": {
          "base_uri": "https://localhost:8080/"
        },
        "outputId": "cf01229b-d375-423c-fc7b-3822fc108399"
      },
      "outputs": [
        {
          "output_type": "execute_result",
          "data": {
            "text/plain": [
              "dict_values(['cold', 'humid', 'colorful'])"
            ]
          },
          "metadata": {},
          "execution_count": 59
        }
      ],
      "source": [
        "#keys\n",
        "season_dict.values()"
      ]
    },
    {
      "cell_type": "code",
      "execution_count": 61,
      "id": "cbb7f5d6",
      "metadata": {
        "id": "cbb7f5d6",
        "colab": {
          "base_uri": "https://localhost:8080/",
          "height": 35
        },
        "outputId": "c57895cc-6464-439b-ab4b-06a8bf7494ce"
      },
      "outputs": [
        {
          "output_type": "execute_result",
          "data": {
            "text/plain": [
              "'humid'"
            ],
            "application/vnd.google.colaboratory.intrinsic+json": {
              "type": "string"
            }
          },
          "metadata": {},
          "execution_count": 61
        }
      ],
      "source": [
        "#pop\n",
        "season_dict.pop(\"summer\")"
      ]
    },
    {
      "cell_type": "code",
      "execution_count": 62,
      "id": "78715f59",
      "metadata": {
        "id": "78715f59"
      },
      "outputs": [],
      "source": [
        "#clear\n",
        "season_dict.clear()\n",
        "\n"
      ]
    },
    {
      "cell_type": "markdown",
      "id": "22b240e0",
      "metadata": {
        "id": "22b240e0"
      },
      "source": [
        "## Indexing"
      ]
    },
    {
      "cell_type": "code",
      "execution_count": 74,
      "id": "080082e3",
      "metadata": {
        "id": "080082e3",
        "colab": {
          "base_uri": "https://localhost:8080/",
          "height": 35
        },
        "outputId": "a980eb20-fce1-464e-90ab-0556943f2f14"
      },
      "outputs": [
        {
          "output_type": "execute_result",
          "data": {
            "text/plain": [
              "'eoo'"
            ],
            "application/vnd.google.colaboratory.intrinsic+json": {
              "type": "string"
            }
          },
          "metadata": {},
          "execution_count": 74
        }
      ],
      "source": [
        "season_list[1]\n",
        "\n",
        "string_object= \"Hello World\"\n",
        "string_object[1:10:3]"
      ]
    },
    {
      "cell_type": "code",
      "execution_count": 80,
      "id": "7e875866",
      "metadata": {
        "id": "7e875866",
        "colab": {
          "base_uri": "https://localhost:8080/",
          "height": 35
        },
        "outputId": "77b91a61-9c52-4c42-bf7a-828947a64c6b"
      },
      "outputs": [
        {
          "output_type": "execute_result",
          "data": {
            "text/plain": [
              "'humid'"
            ],
            "application/vnd.google.colaboratory.intrinsic+json": {
              "type": "string"
            }
          },
          "metadata": {},
          "execution_count": 80
        }
      ],
      "source": [
        "season_dict[\"summer\"]"
      ]
    },
    {
      "cell_type": "markdown",
      "id": "b2fa83ab",
      "metadata": {
        "id": "b2fa83ab"
      },
      "source": [
        "## Loops"
      ]
    },
    {
      "cell_type": "code",
      "source": [
        "'fall'.capitalize()"
      ],
      "metadata": {
        "colab": {
          "base_uri": "https://localhost:8080/",
          "height": 35
        },
        "id": "gkQUvwqOIhM6",
        "outputId": "b3c0f445-417b-4b5d-db74-c47d1428a284"
      },
      "id": "gkQUvwqOIhM6",
      "execution_count": 93,
      "outputs": [
        {
          "output_type": "execute_result",
          "data": {
            "text/plain": [
              "'Fall'"
            ],
            "application/vnd.google.colaboratory.intrinsic+json": {
              "type": "string"
            }
          },
          "metadata": {},
          "execution_count": 93
        }
      ]
    },
    {
      "cell_type": "code",
      "execution_count": 98,
      "id": "acfcd571",
      "metadata": {
        "id": "acfcd571"
      },
      "outputs": [],
      "source": [
        "type(season_list[1])\n",
        "\n",
        "season_list.sort()\n",
        "\n",
        "#for season in season_list:\n",
        "  #  print(season.capitalize())\n",
        "\n",
        "capitalized_season_list = []\n",
        "for season in season_list:\n",
        "  capitalized_season_list.append(season.capitalize())"
      ]
    },
    {
      "cell_type": "code",
      "execution_count": 99,
      "id": "43676f14",
      "metadata": {
        "id": "43676f14",
        "colab": {
          "base_uri": "https://localhost:8080/"
        },
        "outputId": "b76b1f4c-1e0c-46e0-c099-85c4a3e82f2d"
      },
      "outputs": [
        {
          "output_type": "execute_result",
          "data": {
            "text/plain": [
              "['Fall', 'Spring', 'Spring', 'Summer', 'Winter']"
            ]
          },
          "metadata": {},
          "execution_count": 99
        }
      ],
      "source": [
        "capitalized_season_list\n"
      ]
    },
    {
      "cell_type": "markdown",
      "id": "d4bf496b",
      "metadata": {
        "id": "d4bf496b"
      },
      "source": [
        "## Conditionals"
      ]
    },
    {
      "cell_type": "code",
      "source": [
        "y = 10"
      ],
      "metadata": {
        "id": "gajmiSXYbGR9"
      },
      "id": "gajmiSXYbGR9",
      "execution_count": 103,
      "outputs": []
    },
    {
      "cell_type": "code",
      "execution_count": 104,
      "id": "55f747e6",
      "metadata": {
        "id": "55f747e6",
        "colab": {
          "base_uri": "https://localhost:8080/"
        },
        "outputId": "6cd38ec2-5b08-4d73-b3e1-5879d08e96cb"
      },
      "outputs": [
        {
          "output_type": "execute_result",
          "data": {
            "text/plain": [
              "True"
            ]
          },
          "metadata": {},
          "execution_count": 104
        }
      ],
      "source": [
        "y > 8"
      ]
    },
    {
      "cell_type": "code",
      "execution_count": 105,
      "id": "7a35dd0c",
      "metadata": {
        "id": "7a35dd0c",
        "colab": {
          "base_uri": "https://localhost:8080/"
        },
        "outputId": "81701a3a-69a0-460c-e692-b4eab1e4dcce"
      },
      "outputs": [
        {
          "output_type": "stream",
          "name": "stdout",
          "text": [
            "Y is greater than 8.\n"
          ]
        }
      ],
      "source": [
        "if y > 8:\n",
        "  print(\"Y is greater than 8.\")\n",
        "else: \n",
        "  print(\"Y is not greater than 8.\")"
      ]
    },
    {
      "cell_type": "code",
      "execution_count": 109,
      "id": "ca05f1b2",
      "metadata": {
        "id": "ca05f1b2",
        "colab": {
          "base_uri": "https://localhost:8080/"
        },
        "outputId": "28f2df2f-23d2-4f5e-83c5-32ffc2f2a3b1"
      },
      "outputs": [
        {
          "output_type": "stream",
          "name": "stdout",
          "text": [
            "Y is eaqual to 10.\n"
          ]
        }
      ],
      "source": [
        "if y > 10:\n",
        "  print(\"Y is greater than 10.\")\n",
        "elif y < 10:\n",
        "  print(\"Y is less than 10.\") \n",
        "elif y == 10:\n",
        "  print(\"Y is eaqual to 10.\")\n",
        "else: \n",
        "  print(\"Y is not greater than 10.\")"
      ]
    },
    {
      "cell_type": "code",
      "execution_count": null,
      "id": "216654a2",
      "metadata": {
        "id": "216654a2"
      },
      "outputs": [],
      "source": []
    },
    {
      "cell_type": "code",
      "execution_count": null,
      "id": "c67825b1",
      "metadata": {
        "id": "c67825b1"
      },
      "outputs": [],
      "source": [
        "#create empty lists \n",
        "empty_list = []\n"
      ]
    },
    {
      "cell_type": "code",
      "execution_count": null,
      "id": "5dcdb611",
      "metadata": {
        "id": "5dcdb611"
      },
      "outputs": [],
      "source": []
    },
    {
      "cell_type": "markdown",
      "source": [
        "**Functions**\n",
        "\n",
        "\n",
        "\n"
      ],
      "metadata": {
        "id": "dSXM42qrcpoj"
      },
      "id": "dSXM42qrcpoj"
    },
    {
      "cell_type": "code",
      "execution_count": 122,
      "id": "02770b1e",
      "metadata": {
        "id": "02770b1e",
        "colab": {
          "base_uri": "https://localhost:8080/"
        },
        "outputId": "ddba5e5c-035b-401f-80cc-ad641f3aeafb"
      },
      "outputs": [
        {
          "output_type": "stream",
          "name": "stdout",
          "text": [
            "My value for number1 is 2.\n",
            "My value for number2 is 10.\n"
          ]
        },
        {
          "output_type": "execute_result",
          "data": {
            "text/plain": [
              "12"
            ]
          },
          "metadata": {},
          "execution_count": 122
        }
      ],
      "source": [
        "def sums_two_values(number1, number2):\n",
        "  print(f'My value for number1 is {x}.')\n",
        "  print(f'My value for number2 is {y}.')\n",
        "  return number1 + number2\n",
        " \n",
        "sums_two_values(x,y)\n"
      ]
    },
    {
      "cell_type": "markdown",
      "id": "3767aa2d",
      "metadata": {
        "id": "3767aa2d"
      },
      "source": [
        "## Imports"
      ]
    },
    {
      "cell_type": "code",
      "execution_count": 122,
      "id": "81be78ca",
      "metadata": {
        "id": "81be78ca"
      },
      "outputs": [],
      "source": [
        "\n"
      ]
    },
    {
      "cell_type": "markdown",
      "id": "bcc9d485",
      "metadata": {
        "id": "bcc9d485"
      },
      "source": [
        "The most popular data science libraries are numpy, pandas and matplotlib (for visualizations)"
      ]
    },
    {
      "cell_type": "code",
      "execution_count": 127,
      "id": "5a21459d",
      "metadata": {
        "id": "5a21459d"
      },
      "outputs": [],
      "source": [
        "import pandas as pd\n",
        "import pandas "
      ]
    },
    {
      "cell_type": "code",
      "execution_count": 125,
      "id": "e004ea6b",
      "metadata": {
        "id": "e004ea6b"
      },
      "outputs": [],
      "source": [
        "import seaborn as sns"
      ]
    },
    {
      "cell_type": "code",
      "execution_count": 126,
      "id": "196fc5bb",
      "metadata": {
        "id": "196fc5bb",
        "colab": {
          "base_uri": "https://localhost:8080/",
          "height": 424
        },
        "outputId": "bf487398-b8ad-4c71-decc-a099fc8bf98d"
      },
      "outputs": [
        {
          "output_type": "execute_result",
          "data": {
            "text/plain": [
              "       carat        cut color clarity  depth  table  price     x     y     z\n",
              "0       0.23      Ideal     E     SI2   61.5   55.0    326  3.95  3.98  2.43\n",
              "1       0.21    Premium     E     SI1   59.8   61.0    326  3.89  3.84  2.31\n",
              "2       0.23       Good     E     VS1   56.9   65.0    327  4.05  4.07  2.31\n",
              "3       0.29    Premium     I     VS2   62.4   58.0    334  4.20  4.23  2.63\n",
              "4       0.31       Good     J     SI2   63.3   58.0    335  4.34  4.35  2.75\n",
              "...      ...        ...   ...     ...    ...    ...    ...   ...   ...   ...\n",
              "53935   0.72      Ideal     D     SI1   60.8   57.0   2757  5.75  5.76  3.50\n",
              "53936   0.72       Good     D     SI1   63.1   55.0   2757  5.69  5.75  3.61\n",
              "53937   0.70  Very Good     D     SI1   62.8   60.0   2757  5.66  5.68  3.56\n",
              "53938   0.86    Premium     H     SI2   61.0   58.0   2757  6.15  6.12  3.74\n",
              "53939   0.75      Ideal     D     SI2   62.2   55.0   2757  5.83  5.87  3.64\n",
              "\n",
              "[53940 rows x 10 columns]"
            ],
            "text/html": [
              "\n",
              "  <div id=\"df-baa9ed2c-55cf-45bc-830b-0bb2e9032b9a\">\n",
              "    <div class=\"colab-df-container\">\n",
              "      <div>\n",
              "<style scoped>\n",
              "    .dataframe tbody tr th:only-of-type {\n",
              "        vertical-align: middle;\n",
              "    }\n",
              "\n",
              "    .dataframe tbody tr th {\n",
              "        vertical-align: top;\n",
              "    }\n",
              "\n",
              "    .dataframe thead th {\n",
              "        text-align: right;\n",
              "    }\n",
              "</style>\n",
              "<table border=\"1\" class=\"dataframe\">\n",
              "  <thead>\n",
              "    <tr style=\"text-align: right;\">\n",
              "      <th></th>\n",
              "      <th>carat</th>\n",
              "      <th>cut</th>\n",
              "      <th>color</th>\n",
              "      <th>clarity</th>\n",
              "      <th>depth</th>\n",
              "      <th>table</th>\n",
              "      <th>price</th>\n",
              "      <th>x</th>\n",
              "      <th>y</th>\n",
              "      <th>z</th>\n",
              "    </tr>\n",
              "  </thead>\n",
              "  <tbody>\n",
              "    <tr>\n",
              "      <th>0</th>\n",
              "      <td>0.23</td>\n",
              "      <td>Ideal</td>\n",
              "      <td>E</td>\n",
              "      <td>SI2</td>\n",
              "      <td>61.5</td>\n",
              "      <td>55.0</td>\n",
              "      <td>326</td>\n",
              "      <td>3.95</td>\n",
              "      <td>3.98</td>\n",
              "      <td>2.43</td>\n",
              "    </tr>\n",
              "    <tr>\n",
              "      <th>1</th>\n",
              "      <td>0.21</td>\n",
              "      <td>Premium</td>\n",
              "      <td>E</td>\n",
              "      <td>SI1</td>\n",
              "      <td>59.8</td>\n",
              "      <td>61.0</td>\n",
              "      <td>326</td>\n",
              "      <td>3.89</td>\n",
              "      <td>3.84</td>\n",
              "      <td>2.31</td>\n",
              "    </tr>\n",
              "    <tr>\n",
              "      <th>2</th>\n",
              "      <td>0.23</td>\n",
              "      <td>Good</td>\n",
              "      <td>E</td>\n",
              "      <td>VS1</td>\n",
              "      <td>56.9</td>\n",
              "      <td>65.0</td>\n",
              "      <td>327</td>\n",
              "      <td>4.05</td>\n",
              "      <td>4.07</td>\n",
              "      <td>2.31</td>\n",
              "    </tr>\n",
              "    <tr>\n",
              "      <th>3</th>\n",
              "      <td>0.29</td>\n",
              "      <td>Premium</td>\n",
              "      <td>I</td>\n",
              "      <td>VS2</td>\n",
              "      <td>62.4</td>\n",
              "      <td>58.0</td>\n",
              "      <td>334</td>\n",
              "      <td>4.20</td>\n",
              "      <td>4.23</td>\n",
              "      <td>2.63</td>\n",
              "    </tr>\n",
              "    <tr>\n",
              "      <th>4</th>\n",
              "      <td>0.31</td>\n",
              "      <td>Good</td>\n",
              "      <td>J</td>\n",
              "      <td>SI2</td>\n",
              "      <td>63.3</td>\n",
              "      <td>58.0</td>\n",
              "      <td>335</td>\n",
              "      <td>4.34</td>\n",
              "      <td>4.35</td>\n",
              "      <td>2.75</td>\n",
              "    </tr>\n",
              "    <tr>\n",
              "      <th>...</th>\n",
              "      <td>...</td>\n",
              "      <td>...</td>\n",
              "      <td>...</td>\n",
              "      <td>...</td>\n",
              "      <td>...</td>\n",
              "      <td>...</td>\n",
              "      <td>...</td>\n",
              "      <td>...</td>\n",
              "      <td>...</td>\n",
              "      <td>...</td>\n",
              "    </tr>\n",
              "    <tr>\n",
              "      <th>53935</th>\n",
              "      <td>0.72</td>\n",
              "      <td>Ideal</td>\n",
              "      <td>D</td>\n",
              "      <td>SI1</td>\n",
              "      <td>60.8</td>\n",
              "      <td>57.0</td>\n",
              "      <td>2757</td>\n",
              "      <td>5.75</td>\n",
              "      <td>5.76</td>\n",
              "      <td>3.50</td>\n",
              "    </tr>\n",
              "    <tr>\n",
              "      <th>53936</th>\n",
              "      <td>0.72</td>\n",
              "      <td>Good</td>\n",
              "      <td>D</td>\n",
              "      <td>SI1</td>\n",
              "      <td>63.1</td>\n",
              "      <td>55.0</td>\n",
              "      <td>2757</td>\n",
              "      <td>5.69</td>\n",
              "      <td>5.75</td>\n",
              "      <td>3.61</td>\n",
              "    </tr>\n",
              "    <tr>\n",
              "      <th>53937</th>\n",
              "      <td>0.70</td>\n",
              "      <td>Very Good</td>\n",
              "      <td>D</td>\n",
              "      <td>SI1</td>\n",
              "      <td>62.8</td>\n",
              "      <td>60.0</td>\n",
              "      <td>2757</td>\n",
              "      <td>5.66</td>\n",
              "      <td>5.68</td>\n",
              "      <td>3.56</td>\n",
              "    </tr>\n",
              "    <tr>\n",
              "      <th>53938</th>\n",
              "      <td>0.86</td>\n",
              "      <td>Premium</td>\n",
              "      <td>H</td>\n",
              "      <td>SI2</td>\n",
              "      <td>61.0</td>\n",
              "      <td>58.0</td>\n",
              "      <td>2757</td>\n",
              "      <td>6.15</td>\n",
              "      <td>6.12</td>\n",
              "      <td>3.74</td>\n",
              "    </tr>\n",
              "    <tr>\n",
              "      <th>53939</th>\n",
              "      <td>0.75</td>\n",
              "      <td>Ideal</td>\n",
              "      <td>D</td>\n",
              "      <td>SI2</td>\n",
              "      <td>62.2</td>\n",
              "      <td>55.0</td>\n",
              "      <td>2757</td>\n",
              "      <td>5.83</td>\n",
              "      <td>5.87</td>\n",
              "      <td>3.64</td>\n",
              "    </tr>\n",
              "  </tbody>\n",
              "</table>\n",
              "<p>53940 rows × 10 columns</p>\n",
              "</div>\n",
              "      <button class=\"colab-df-convert\" onclick=\"convertToInteractive('df-baa9ed2c-55cf-45bc-830b-0bb2e9032b9a')\"\n",
              "              title=\"Convert this dataframe to an interactive table.\"\n",
              "              style=\"display:none;\">\n",
              "        \n",
              "  <svg xmlns=\"http://www.w3.org/2000/svg\" height=\"24px\"viewBox=\"0 0 24 24\"\n",
              "       width=\"24px\">\n",
              "    <path d=\"M0 0h24v24H0V0z\" fill=\"none\"/>\n",
              "    <path d=\"M18.56 5.44l.94 2.06.94-2.06 2.06-.94-2.06-.94-.94-2.06-.94 2.06-2.06.94zm-11 1L8.5 8.5l.94-2.06 2.06-.94-2.06-.94L8.5 2.5l-.94 2.06-2.06.94zm10 10l.94 2.06.94-2.06 2.06-.94-2.06-.94-.94-2.06-.94 2.06-2.06.94z\"/><path d=\"M17.41 7.96l-1.37-1.37c-.4-.4-.92-.59-1.43-.59-.52 0-1.04.2-1.43.59L10.3 9.45l-7.72 7.72c-.78.78-.78 2.05 0 2.83L4 21.41c.39.39.9.59 1.41.59.51 0 1.02-.2 1.41-.59l7.78-7.78 2.81-2.81c.8-.78.8-2.07 0-2.86zM5.41 20L4 18.59l7.72-7.72 1.47 1.35L5.41 20z\"/>\n",
              "  </svg>\n",
              "      </button>\n",
              "      \n",
              "  <style>\n",
              "    .colab-df-container {\n",
              "      display:flex;\n",
              "      flex-wrap:wrap;\n",
              "      gap: 12px;\n",
              "    }\n",
              "\n",
              "    .colab-df-convert {\n",
              "      background-color: #E8F0FE;\n",
              "      border: none;\n",
              "      border-radius: 50%;\n",
              "      cursor: pointer;\n",
              "      display: none;\n",
              "      fill: #1967D2;\n",
              "      height: 32px;\n",
              "      padding: 0 0 0 0;\n",
              "      width: 32px;\n",
              "    }\n",
              "\n",
              "    .colab-df-convert:hover {\n",
              "      background-color: #E2EBFA;\n",
              "      box-shadow: 0px 1px 2px rgba(60, 64, 67, 0.3), 0px 1px 3px 1px rgba(60, 64, 67, 0.15);\n",
              "      fill: #174EA6;\n",
              "    }\n",
              "\n",
              "    [theme=dark] .colab-df-convert {\n",
              "      background-color: #3B4455;\n",
              "      fill: #D2E3FC;\n",
              "    }\n",
              "\n",
              "    [theme=dark] .colab-df-convert:hover {\n",
              "      background-color: #434B5C;\n",
              "      box-shadow: 0px 1px 3px 1px rgba(0, 0, 0, 0.15);\n",
              "      filter: drop-shadow(0px 1px 2px rgba(0, 0, 0, 0.3));\n",
              "      fill: #FFFFFF;\n",
              "    }\n",
              "  </style>\n",
              "\n",
              "      <script>\n",
              "        const buttonEl =\n",
              "          document.querySelector('#df-baa9ed2c-55cf-45bc-830b-0bb2e9032b9a button.colab-df-convert');\n",
              "        buttonEl.style.display =\n",
              "          google.colab.kernel.accessAllowed ? 'block' : 'none';\n",
              "\n",
              "        async function convertToInteractive(key) {\n",
              "          const element = document.querySelector('#df-baa9ed2c-55cf-45bc-830b-0bb2e9032b9a');\n",
              "          const dataTable =\n",
              "            await google.colab.kernel.invokeFunction('convertToInteractive',\n",
              "                                                     [key], {});\n",
              "          if (!dataTable) return;\n",
              "\n",
              "          const docLinkHtml = 'Like what you see? Visit the ' +\n",
              "            '<a target=\"_blank\" href=https://colab.research.google.com/notebooks/data_table.ipynb>data table notebook</a>'\n",
              "            + ' to learn more about interactive tables.';\n",
              "          element.innerHTML = '';\n",
              "          dataTable['output_type'] = 'display_data';\n",
              "          await google.colab.output.renderOutput(dataTable, element);\n",
              "          const docLink = document.createElement('div');\n",
              "          docLink.innerHTML = docLinkHtml;\n",
              "          element.appendChild(docLink);\n",
              "        }\n",
              "      </script>\n",
              "    </div>\n",
              "  </div>\n",
              "  "
            ]
          },
          "metadata": {},
          "execution_count": 126
        }
      ],
      "source": [
        "sns.load_dataset('diamonds')"
      ]
    },
    {
      "cell_type": "code",
      "execution_count": 129,
      "id": "1580756e",
      "metadata": {
        "id": "1580756e"
      },
      "outputs": [],
      "source": [
        "import numpy as np"
      ]
    },
    {
      "cell_type": "code",
      "execution_count": 130,
      "id": "59b1874c",
      "metadata": {
        "id": "59b1874c",
        "colab": {
          "base_uri": "https://localhost:8080/"
        },
        "outputId": "537e6955-da3c-49e4-838e-595b2ec9d6df"
      },
      "outputs": [
        {
          "output_type": "execute_result",
          "data": {
            "text/plain": [
              "array(['the number ten', 'the number ten', 'the number ten',\n",
              "       'the number ten', 'the number ten', 'the number ten',\n",
              "       'the number ten', 'the number ten', 'the number ten',\n",
              "       'the number ten'], dtype='<U14')"
            ]
          },
          "metadata": {},
          "execution_count": 130
        }
      ],
      "source": [
        "np.repeat(\"the number ten\", 10)"
      ]
    },
    {
      "cell_type": "code",
      "execution_count": 123,
      "id": "d2c6693e",
      "metadata": {
        "id": "d2c6693e"
      },
      "outputs": [],
      "source": []
    },
    {
      "cell_type": "code",
      "execution_count": 123,
      "id": "4813e8e5",
      "metadata": {
        "id": "4813e8e5"
      },
      "outputs": [],
      "source": []
    }
  ],
  "metadata": {
    "kernelspec": {
      "display_name": "Python 3",
      "language": "python",
      "name": "python3"
    },
    "language_info": {
      "codemirror_mode": {
        "name": "ipython",
        "version": 3
      },
      "file_extension": ".py",
      "mimetype": "text/x-python",
      "name": "python",
      "nbconvert_exporter": "python",
      "pygments_lexer": "ipython3",
      "version": "3.8.8"
    },
    "colab": {
      "provenance": []
    }
  },
  "nbformat": 4,
  "nbformat_minor": 5
}