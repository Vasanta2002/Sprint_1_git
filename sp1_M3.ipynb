{
  "nbformat": 4,
  "nbformat_minor": 0,
  "metadata": {
    "colab": {
      "provenance": [],
      "authorship_tag": "ABX9TyO+lQSbJEsjzT0pFxH50OYi",
      "include_colab_link": true
    },
    "kernelspec": {
      "name": "python3",
      "display_name": "Python 3"
    },
    "language_info": {
      "name": "python"
    }
  },
  "cells": [
    {
      "cell_type": "markdown",
      "metadata": {
        "id": "view-in-github",
        "colab_type": "text"
      },
      "source": [
        "<a href=\"https://colab.research.google.com/github/Vasanta2002/Sprint_1_git/blob/main/sp1_M3.ipynb\" target=\"_parent\"><img src=\"https://colab.research.google.com/assets/colab-badge.svg\" alt=\"Open In Colab\"/></a>"
      ]
    },
    {
      "cell_type": "markdown",
      "source": [
        "#Use Appropriate Terminology When Referring to Parts of a Matplotlib Graph\n",
        "\n",
        "---\n",
        "\n"
      ],
      "metadata": {
        "id": "8jrCB6nS_cla"
      }
    },
    {
      "cell_type": "code",
      "execution_count": 17,
      "metadata": {
        "colab": {
          "base_uri": "https://localhost:8080/",
          "height": 487
        },
        "id": "8mBuRRPm_TCv",
        "outputId": "bbd6a4e2-05ff-496d-c85d-d8803bb4453a"
      },
      "outputs": [
        {
          "output_type": "display_data",
          "data": {
            "text/plain": [
              "<Figure size 576x576 with 1 Axes>"
            ],
            "image/png": "[encoded data removed]"
          },
          "metadata": {
            "needs_background": "light"
          }
        }
      ],
      "source": [
        "# Import the libraries\n",
        "import numpy as np\n",
        "import matplotlib.pyplot as plt\n",
        "\n",
        "# Generate the X and multiple Y values\n",
        "X = np.linspace(0.5, 3.5, 100)\n",
        "Y1 = 3+np.cos(X)\n",
        "Y2 = 1+np.cos(1+X/0.75)/2\n",
        "Y3 = np.random.uniform(Y1, Y2, len(X))\n",
        "\n",
        "# Create the figure object with a size of 8x8 inches\n",
        "fig = plt.figure(figsize=(8, 8))\n",
        "\n",
        "# Create the figure axes with a single plot\n",
        "ax = fig.add_subplot(1, 1, 1)\n"
      ]
    },
    {
      "cell_type": "code",
      "source": [
        "# Finally, plot! \n",
        "# (we're choosing different colors here)\n",
        "\n",
        "# Plot a solid magenta line, width=2\n",
        "ax.plot(X, Y1, c='m', lw=2, label=\"magneta signal\")"
      ],
      "metadata": {
        "colab": {
          "base_uri": "https://localhost:8080/"
        },
        "id": "TjxQuxdUDf6D",
        "outputId": "da89f181-d9ea-4e29-de59-91f9c1981341"
      },
      "execution_count": 18,
      "outputs": [
        {
          "output_type": "execute_result",
          "data": {
            "text/plain": [
              "[<matplotlib.lines.Line2D at 0x7fcdf1cbb490>]"
            ]
          },
          "metadata": {},
          "execution_count": 18
        }
      ]
    },
    {
      "cell_type": "code",
      "source": [
        "# Plot an orange dash-dot line, width=3\n",
        "ax.plot(X, Y2, c='orange', lw=3, linestyle='-.', label=\"orange signal\")"
      ],
      "metadata": {
        "colab": {
          "base_uri": "https://localhost:8080/"
        },
        "id": "HMIu1NTMDnUm",
        "outputId": "c775d1dc-aeec-4aee-d33b-5a46e6e7d60d"
      },
      "execution_count": 19,
      "outputs": [
        {
          "output_type": "execute_result",
          "data": {
            "text/plain": [
              "[<matplotlib.lines.Line2D at 0x7fcdf1bc5a50>]"
            ]
          },
          "metadata": {},
          "execution_count": 19
        }
      ]
    },
    {
      "cell_type": "code",
      "source": [
        "# Plot yellow circle markers with a green edge, line width=0 (not visible)\n",
        "ax.plot(X, Y3, linewidth=0,\n",
        "        marker='o', markerfacecolor='y', markeredgecolor='g')"
      ],
      "metadata": {
        "colab": {
          "base_uri": "https://localhost:8080/"
        },
        "id": "yvXziTHODohu",
        "outputId": "18ba8474-98d2-4bd1-a4c6-6269baf758ea"
      },
      "execution_count": 20,
      "outputs": [
        {
          "output_type": "execute_result",
          "data": {
            "text/plain": [
              "[<matplotlib.lines.Line2D at 0x7fcdf1bcd890>]"
            ]
          },
          "metadata": {},
          "execution_count": 20
        }
      ]
    },
    {
      "cell_type": "code",
      "source": [
        "# Set the title and the x- and y-axis labels\n",
        "ax.set_title(\"Anatomy of a figure (modified)\", fontsize=18)\n",
        "ax.set_xlabel(\"X axis label\")\n",
        "ax.set_ylabel(\"Y axis label\")"
      ],
      "metadata": {
        "colab": {
          "base_uri": "https://localhost:8080/"
        },
        "id": "yxW40okgDsCm",
        "outputId": "9bd44ac6-cc3b-4174-9191-8b9c3edf37e7"
      },
      "execution_count": 21,
      "outputs": [
        {
          "output_type": "execute_result",
          "data": {
            "text/plain": [
              "Text(3.200000000000003, 0.5, 'Y axis label')"
            ]
          },
          "metadata": {},
          "execution_count": 21
        }
      ]
    },
    {
      "cell_type": "code",
      "source": [
        "# Plot the legend using the labels defined earlier\n",
        "ax.legend()\n",
        "\n",
        "# Display the plot!\n",
        "#plt.show() "
      ],
      "metadata": {
        "id": "MelFPZZrDvUF"
      },
      "execution_count": 23,
      "outputs": []
    },
    {
      "cell_type": "code",
      "source": [
        "plt.show()"
      ],
      "metadata": {
        "id": "1ujUVlDmFEtT"
      },
      "execution_count": 25,
      "outputs": []
    },
    {
      "cell_type": "code",
      "source": [
        "# Import the libraries\n",
        "import numpy as np\n",
        "import matplotlib.pyplot as plt\n",
        "\n",
        "# Generate the X and multiple Y values\n",
        "X = np.linspace(0.5, 3.5, 100)\n",
        "Y1 = 3+np.cos(X)\n",
        "Y2 = 1+np.cos(1+X/0.75)/2\n",
        "Y3 = np.random.uniform(Y1, Y2, len(X))\n",
        "\n",
        "# Create the figure object with a size of 8x8 inches\n",
        "fig = plt.figure(figsize=(8, 8))\n",
        "\n",
        "# Create the figure axes with a single plot\n",
        "ax = fig.add_subplot(1, 1, 1)\n",
        "\n",
        "# Finally, plot! \n",
        "# (we're choosing different colors here)\n",
        "\n",
        "# Plot a solid magenta line, width=2\n",
        "ax.plot(X, Y1, c='m', lw=2, label=\"magneta signal\")\n",
        "\n",
        "# Plot an orange dash-dot line, width=3\n",
        "ax.plot(X, Y2, c='orange', lw=3, linestyle='-.', label=\"orange signal\")\n",
        "\n",
        "# Plot yellow circle markers with a green edge, line width=0 (not visible)\n",
        "ax.plot(X, Y3, linewidth=0,\n",
        "        marker='o', markerfacecolor='y', markeredgecolor='g')\n",
        "\n",
        "# Set the title and the x- and y-axis labels\n",
        "ax.set_title(\"Anatomy of a figure (modified)\", fontsize=18)\n",
        "ax.set_xlabel(\"X axis label\")\n",
        "ax.set_ylabel(\"Y axis label\")\n",
        "\n",
        "# Plot the legend using the labels defined earlier\n",
        "ax.legend()\n",
        "\n",
        "# Display the plot!\n",
        "plt.show()"
      ],
      "metadata": {
        "colab": {
          "base_uri": "https://localhost:8080/",
          "height": 517
        },
        "id": "d4h8II9kFGcP",
        "outputId": "11d96ed5-8187-4342-ac34-c05158d8d765"
      },
      "execution_count": 27,
      "outputs": [
        {
          "output_type": "display_data",
          "data": {
            "text/plain": [
              "<Figure size 576x576 with 1 Axes>"
            ],
            "image/png": "[encoded data removed]"
          },
          "metadata": {
            "needs_background": "light"
          }
        }
      ]
    }
  ]
}